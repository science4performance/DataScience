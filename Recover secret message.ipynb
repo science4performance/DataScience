{
 "cells": [
  {
   "cell_type": "markdown",
   "metadata": {},
   "source": [
    "# Cryptography"
   ]
  },
  {
   "cell_type": "markdown",
   "metadata": {},
   "source": [
    "## Recover a secret message from k out of n clues\n",
    "The idea is that you have a secret message you'd like to store securely, like a BitCoin address. You'd like to store it distributively, using a set of n clues. For example one clue could be written on a piece of paper stored in a safe, one could be on your mobile, one could be stored offline on a USB stick, another could be on a PC. The challenge is to find a way to set up the clues so that secret can be retreived as long as you can retrieve any k out of the n clues."
   ]
  },
  {
   "cell_type": "markdown",
   "metadata": {},
   "source": [
    "## Encoding process\n",
    "- Secret message is integer s\n",
    "- Choose a prime $p>s$ which acts as a private key and must be retained\n",
    "- Decide on the number of clues, k, required to recover the secret\n",
    "- Choose a set of k-1 random integers $r<p$ which must be subsequently destroyed, otherwise secret can be found with one clue, p and r\n",
    "- Create and store n clues, where each clue is a pair of values (x, Polynomial(x)) for integers x, where $Polynomial(x) = s + \\sum r(i) * x^i   mod(p)$"
   ]
  },
  {
   "cell_type": "markdown",
   "metadata": {},
   "source": [
    "## Decoding process\n",
    "- To recover s, take any k clues \n",
    "- Now you have k points on a curve of degree k, so it is possible to find all the coefficients of the Polynomial\n",
    "- However, you only care about the secret, s, which is the intercept when x=0\n",
    "- First create a matrix of the coefficients of the set of k simultaneous equations and recursively eliminate the r values\n",
    "- This leaves you with a solution for s in the form of a linear congruence equation a*s = b modulo p\n",
    "- To solve this, first find the inverse of a using the extended Euclid algorithm, then use it to multiply both sides of the equation\n",
    "- http://www.a-calculator.com/congruence/"
   ]
  },
  {
   "cell_type": "markdown",
   "metadata": {},
   "source": [
    "# Encoding process"
   ]
  },
  {
   "cell_type": "code",
   "execution_count": 1,
   "metadata": {
    "collapsed": true
   },
   "outputs": [],
   "source": [
    "import numpy as np"
   ]
  },
  {
   "cell_type": "code",
   "execution_count": 2,
   "metadata": {},
   "outputs": [],
   "source": [
    "s = 19950627                     # The secret message\n",
    "p = 961748941                    # Private key (must be >s)\n",
    "\n",
    "k = 6                            # Number of clues required to recover secret\n",
    "n = 2*k                          # Number of clues created\n",
    "r = np.random.choice(p-1, k-1)+1 # Disposable set of (k-1) random numbers"
   ]
  },
  {
   "cell_type": "markdown",
   "metadata": {},
   "source": [
    "The clues are simply the coodinates of (any integer) points on the line defined by a polynomial of degree k-1: $Y = s + r_1*x + r_2*x^2 + ... r_{(k-1)}*x^{(k-1)} $ $modulo(p)$. The repeated use of %p was required to avoid overflow."
   ]
  },
  {
   "cell_type": "code",
   "execution_count": 3,
   "metadata": {},
   "outputs": [
    {
     "data": {
      "text/plain": [
       "[[781527205, 410540233],\n",
       " [385678624, 877135722],\n",
       " [127296355, 472483139],\n",
       " [296140952, 77522490],\n",
       " [242728467, 657244301],\n",
       " [907459656, 568109658],\n",
       " [797678832, 97606440],\n",
       " [876122713, 532957230],\n",
       " [126476507, 64798025],\n",
       " [151968672, 612585069],\n",
       " [756620407, 644163821],\n",
       " [421794615, 777360898]]"
      ]
     },
     "execution_count": 3,
     "metadata": {},
     "output_type": "execute_result"
    }
   ],
   "source": [
    "clues = []\n",
    "for i in np.random.choice(p-1,n):\n",
    "    clues += [[i+1] + [sum([s] + [(i+1)**j%p*r[j-1]%p for j in range(1,k)])%p]]\n",
    "clues"
   ]
  },
  {
   "cell_type": "markdown",
   "metadata": {},
   "source": [
    "# Decoding process"
   ]
  },
  {
   "cell_type": "markdown",
   "metadata": {},
   "source": [
    "Find k random keys"
   ]
  },
  {
   "cell_type": "code",
   "execution_count": 4,
   "metadata": {},
   "outputs": [
    {
     "data": {
      "text/plain": [
       "[[781527205, 410540233],\n",
       " [126476507, 64798025],\n",
       " [797678832, 97606440],\n",
       " [127296355, 472483139],\n",
       " [151968672, 612585069],\n",
       " [242728467, 657244301]]"
      ]
     },
     "execution_count": 4,
     "metadata": {},
     "output_type": "execute_result"
    }
   ],
   "source": [
    "found = [clues[i] for i in np.random.choice(n, k, replace=False)]\n",
    "found"
   ]
  },
  {
   "cell_type": "markdown",
   "metadata": {},
   "source": [
    "Create a a matrix, M, of coeficients $Y = [1, x, x^2, .. x^{(k-1)}] * [s, r_1, r_2, ... r_{(k-1)}].T $. Note that the vector of Y values is included as the first column of M, as this makes the elimination easier in the next step. "
   ]
  },
  {
   "cell_type": "code",
   "execution_count": 5,
   "metadata": {},
   "outputs": [
    {
     "data": {
      "text/plain": [
       "array([[410540233,         1, 781527205, 498058580, 782968403, 392156113,\n",
       "        187091068],\n",
       "       [ 64798025,         1, 126476507, 250257611, 780684041, 118466177,\n",
       "        960190269],\n",
       "       [ 97606440,         1, 797678832, 770543228, 292201909, 285728078,\n",
       "        118282168],\n",
       "       [472483139,         1, 127296355, 275216057, 845295987, 624396016,\n",
       "        297251133],\n",
       "       [612585069,         1, 151968672, 910959525, 934579978, 797610222,\n",
       "        901028813],\n",
       "       [657244301,         1, 242728467, 216665686,  44053505, 658073828,\n",
       "        205270568]])"
      ]
     },
     "execution_count": 5,
     "metadata": {},
     "output_type": "execute_result"
    }
   ],
   "source": [
    "M = np.array([[f[-1],1]+[f[0]**j%p for j in range(1,k)] for f in found])\n",
    "M"
   ]
  },
  {
   "cell_type": "markdown",
   "metadata": {},
   "source": [
    "Now eliminate all the r coefficients from the k simultaneous equations, to obtain a single equation for s in the form a*s = b mod p. This is easy when k=2, as we just have 2 points on the line. More generally we can elimiate the variables recursively."
   ]
  },
  {
   "cell_type": "code",
   "execution_count": 6,
   "metadata": {},
   "outputs": [],
   "source": [
    "def eliminate(M):\n",
    "    \"\"\"Recursive function to eliminate one row and column at a time\"\"\"\n",
    "    N = M.copy()\n",
    "    rows = len(M)\n",
    "    if rows == 1:\n",
    "        return M\n",
    "    for r in range(rows):\n",
    "        for s in range(rows):\n",
    "            if r != s:\n",
    "                N[r] = (N[r] * M[s,-1])%p\n",
    "    for r in range(rows-1):\n",
    "        N[r] = (N[r] - N[-1])%p\n",
    "    M = N[:-1,:-1]\n",
    "    return eliminate(M)\n",
    "    \n",
    "    "
   ]
  },
  {
   "cell_type": "code",
   "execution_count": 7,
   "metadata": {},
   "outputs": [
    {
     "data": {
      "text/plain": [
       "(16228509, 957582198)"
      ]
     },
     "execution_count": 7,
     "metadata": {},
     "output_type": "execute_result"
    }
   ],
   "source": [
    "b,a = eliminate(M)[0]  # Note b is the Y value and a is the coefficient of s\n",
    "a,b"
   ]
  },
  {
   "cell_type": "markdown",
   "metadata": {},
   "source": [
    "Now we need to solve for s where a*s = b mod p <br>\n",
    "One way to do it with (a, b, p) = (5, 19, 37) is like this, but it is hard to programme\n",
    "- $5*s=19mod(37)$\n",
    "- $s = 19/5 = 19*8/40 = 152/3 = 152*13/2 = 26$\n"
   ]
  },
  {
   "cell_type": "markdown",
   "metadata": {},
   "source": [
    "Instead, use extended Euclid algorithm. Code borrowed from https://brilliant.org/wiki/extended-euclidean-algorithm/"
   ]
  },
  {
   "cell_type": "code",
   "execution_count": 8,
   "metadata": {},
   "outputs": [
    {
     "data": {
      "text/plain": [
       "(1, 15, -2)"
      ]
     },
     "execution_count": 8,
     "metadata": {},
     "output_type": "execute_result"
    }
   ],
   "source": [
    "def egcd(a, b):\n",
    "    x,y, u,v = 0,1, 1,0\n",
    "    while a != 0:\n",
    "        q, r = b//a, b%a\n",
    "        m, n = x-u*q, y-v*q\n",
    "        b,a, x,y, u,v = a,r, u,v, m,n\n",
    "    gcd = b\n",
    "    return gcd, x, y\n",
    "\n",
    "egcd(5,37)"
   ]
  },
  {
   "cell_type": "markdown",
   "metadata": {},
   "source": [
    "Obtain the solution by multiplying both sides of equation by the inverse of a, which is ouput x of the function"
   ]
  },
  {
   "cell_type": "code",
   "execution_count": 9,
   "metadata": {},
   "outputs": [
    {
     "data": {
      "text/plain": [
       "'Secret message obtained from 6 clues is 19950627'"
      ]
     },
     "execution_count": 9,
     "metadata": {},
     "output_type": "execute_result"
    }
   ],
   "source": [
    "'Secret message obtained from {} clues is {}'.format(k, egcd(a,p)[1]*b%p)"
   ]
  },
  {
   "cell_type": "code",
   "execution_count": null,
   "metadata": {
    "collapsed": true
   },
   "outputs": [],
   "source": []
  },
  {
   "cell_type": "code",
   "execution_count": null,
   "metadata": {
    "collapsed": true
   },
   "outputs": [],
   "source": []
  }
 ],
 "metadata": {
  "kernelspec": {
   "display_name": "Python [Root]",
   "language": "python",
   "name": "Python [Root]"
  },
  "language_info": {
   "codemirror_mode": {
    "name": "ipython",
    "version": 3
   },
   "file_extension": ".py",
   "mimetype": "text/x-python",
   "name": "python",
   "nbconvert_exporter": "python",
   "pygments_lexer": "ipython3",
   "version": "3.5.3"
  }
 },
 "nbformat": 4,
 "nbformat_minor": 2
}
