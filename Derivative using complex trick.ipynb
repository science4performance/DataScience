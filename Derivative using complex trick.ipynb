{
 "cells": [
  {
   "cell_type": "markdown",
   "metadata": {},
   "source": [
    "# Numerical esimate of a derivative using a complex number trick"
   ]
  },
  {
   "cell_type": "markdown",
   "metadata": {},
   "source": [
    "Making numerical estimates of the derivatives of jumpy functions can be difficult. In the following, you need to take a small value of epsilon, but this can lead to numerical precision errors, when taking differences. A trick using complex numbers avoids these problems."
   ]
  },
  {
   "cell_type": "markdown",
   "metadata": {},
   "source": [
    "## Standard approach"
   ]
  },
  {
   "cell_type": "markdown",
   "metadata": {},
   "source": [
    "Taylor expansion <br> $f(x+\\epsilon) = f(x) + f'(x)*\\epsilon + \\frac{f''(x) * \\epsilon^2}{2!}\\ + \\frac{f'''(x) * \\epsilon^3}{ 3!} +...$ <br>\n",
    "Standard estimate of a derivative,  $ f'(x) = \\frac{(f(x+\\epsilon)-f(x))}{\\epsilon}  + O(\\epsilon)$<br>\n",
    "Slightly better centred esimate, $ f'(x) = \\frac{(f(x+\\frac{\\epsilon}{2})-f(x-\\frac{\\epsilon}{2}))}{\\epsilon}  + O(\\epsilon)$<br>"
   ]
  },
  {
   "cell_type": "markdown",
   "metadata": {},
   "source": [
    "## Complex trick"
   ]
  },
  {
   "cell_type": "markdown",
   "metadata": {},
   "source": [
    "Taylor expansion with $\\epsilon$ is multipled by $i = \\sqrt{-1}$  <br> $f(x+\\epsilon*i) = f(x) + f'(x)*\\epsilon*i - \\frac{f''(x) * \\epsilon^2}{2!}\\ - \\frac{f'''(x) * \\epsilon^3*i}{ 3!} +...$ <br>\n",
    "$Real(f(x+\\epsilon*i)) = f(x)  - \\frac{f''(x) * \\epsilon^2}{2!}\\  +...$ <br>\n",
    "$Imaginary(f(x+e*i)) = f'(x)*\\epsilon - \\frac{f'''(x) * \\epsilon^3}{ 3!} +...$<br>\n",
    "So complex esimate of derivative $f'(x) = \\frac{Imaginary(f(x+\\epsilon*i))}{\\epsilon} + O(\\epsilon^2) $ <br>\n",
    "This has the advantage of avoiding the numerical precision problems encountered by having to take diffences and it has a smaller error term. This means you can use a really small value of $\\epsilon$, like 1e-150."
   ]
  },
  {
   "cell_type": "markdown",
   "metadata": {},
   "source": [
    "## Example\n",
    "Define a jumpy function and plot it"
   ]
  },
  {
   "cell_type": "code",
   "execution_count": 1,
   "metadata": {
    "collapsed": true
   },
   "outputs": [],
   "source": [
    "import numpy as np\n",
    "import matplotlib.pylab as plt\n",
    "%matplotlib inline"
   ]
  },
  {
   "cell_type": "code",
   "execution_count": 2,
   "metadata": {
    "collapsed": true
   },
   "outputs": [],
   "source": [
    "def f(x):\n",
    "    return np.sin(x*10000)/x"
   ]
  },
  {
   "cell_type": "code",
   "execution_count": 3,
   "metadata": {},
   "outputs": [
    {
     "data": {
      "image/png": "[encoded data removed]",
      "text/plain": [
       "<matplotlib.figure.Figure at 0x1093af470>"
      ]
     },
     "metadata": {},
     "output_type": "display_data"
    }
   ],
   "source": [
    "y = np.linspace(0.01,1,1000)\n",
    "plt.figure(figsize=(12,6))\n",
    "plt.plot(y,f(y));\n"
   ]
  },
  {
   "cell_type": "markdown",
   "metadata": {},
   "source": [
    "## Compare estimates of the derivative at some random point, over range of values of $\\epsilon$"
   ]
  },
  {
   "cell_type": "code",
   "execution_count": 4,
   "metadata": {},
   "outputs": [
    {
     "data": {
      "text/plain": [
       "0.12505285103818653"
      ]
     },
     "execution_count": 4,
     "metadata": {},
     "output_type": "execute_result"
    }
   ],
   "source": [
    "x = np.random.random()\n",
    "x"
   ]
  },
  {
   "cell_type": "code",
   "execution_count": 5,
   "metadata": {
    "scrolled": true
   },
   "outputs": [
    {
     "name": "stdout",
     "output_type": "stream",
     "text": [
      "epsilon     Stardard         Better        Complex\n",
      "1e-03     -6796.1253    -15106.4344 +86601216.4544\n",
      "1e-04    +59819.8007    +75499.7036    +92529.7919\n",
      "1e-05    +77907.2720    +78706.0113    +78870.0650\n",
      "1e-06    +78667.3948    +78738.4776    +78740.1176\n",
      "1e-07    +78731.7825    +78738.8023    +78738.8187\n",
      "1e-08    +78738.1045    +78738.8056    +78738.8057\n",
      "1e-09    +78738.7353    +78738.8072    +78738.8056\n",
      "1e-10    +78738.8074    +78738.8144    +78738.8056\n",
      "1e-11    +78738.8674    +78738.6890    +78738.8056\n",
      "1e-12    +78739.7632    +78737.9733    +78738.8056\n",
      "1e-13    +78737.9717    +78720.0705    +78738.8056\n",
      "1e-14    +78594.7307    +78773.8097    +78738.8056\n",
      "1e-15    +78773.6543    +78773.6543    +78738.8056\n",
      "1e-16    +89515.0620    +89515.0620    +78738.8056\n",
      "1e-17        +0.0000        +0.0000    +78738.8056\n",
      "1e-18        +0.0000        +0.0000    +78738.8056\n",
      "1e-19        +0.0000        +0.0000    +78738.8056\n"
     ]
    }
   ],
   "source": [
    "print('epsilon     Stardard         Better        Complex')\n",
    "for i in range(3,20):\n",
    "    e = 10**(-i)\n",
    "    print('{:.0e} {:+14.4f} {:+14.4f} {:+14.4f}'.format(e, \\\n",
    "                                                        (f(x+e)-f(x))/e, \\\n",
    "                                                        (f(x+e/2)-f(x-e/2))/e, \\\n",
    "                                                        (f(x+e*1j)/e).imag ))"
   ]
  },
  {
   "cell_type": "markdown",
   "metadata": {},
   "source": [
    "Lack of numerical precision ensures that standard methods break down for very small values of $\\epsilon$. But the complex method works for values as small as you like."
   ]
  },
  {
   "cell_type": "code",
   "execution_count": 6,
   "metadata": {},
   "outputs": [
    {
     "name": "stdout",
     "output_type": "stream",
     "text": [
      "epsilon     Stardard         Better        Complex\n",
      "1e-150        +0.0000        +0.0000    +78738.8056\n"
     ]
    }
   ],
   "source": [
    "print('epsilon     Stardard         Better        Complex')\n",
    "for i in range(150,151):\n",
    "    e = 10**(-i)\n",
    "    print('{:.0e} {:+14.4f} {:+14.4f} {:+14.4f}'.format(e, \\\n",
    "                                                        (f(x+e)-f(x))/e, \\\n",
    "                                                        (f(x+e/2)-f(x-e/2))/e, \\\n",
    "                                                        (f(x+e*1j)/e).imag ))"
   ]
  },
  {
   "cell_type": "markdown",
   "metadata": {},
   "source": [
    "## References: \n",
    "Deep Learning by Ian Goodfellow, Yoshua Bengio, Aaron Courville (Section 11.5, p 427)\n",
    "https://mitpress.mit.edu/books/deep-learning<br>\n",
    "Using Complex Variables to Estimate Derivatives of Real Functions, William Squire and George Trapp\n",
    "http://epubs.siam.org/doi/10.1137/S003614459631241X"
   ]
  }
 ],
 "metadata": {
  "kernelspec": {
   "display_name": "Python [Root]",
   "language": "python",
   "name": "Python [Root]"
  },
  "language_info": {
   "codemirror_mode": {
    "name": "ipython",
    "version": 3
   },
   "file_extension": ".py",
   "mimetype": "text/x-python",
   "name": "python",
   "nbconvert_exporter": "python",
   "pygments_lexer": "ipython3",
   "version": "3.5.3"
  }
 },
 "nbformat": 4,
 "nbformat_minor": 2
}
